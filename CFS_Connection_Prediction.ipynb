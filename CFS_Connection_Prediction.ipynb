{
  "nbformat": 4,
  "nbformat_minor": 0,
  "metadata": {
    "colab": {
      "provenance": []
    },
    "kernelspec": {
      "name": "python3",
      "display_name": "Python 3"
    },
    "language_info": {
      "name": "python"
    }
  },
  "cells": [
    {
      "cell_type": "code",
      "execution_count": null,
      "metadata": {
        "colab": {
          "base_uri": "https://localhost:8080/"
        },
        "id": "hPEY1b4S-vfA",
        "outputId": "92132fd3-cf31-40a1-e546-6aebcdd1b886"
      },
      "outputs": [
        {
          "output_type": "stream",
          "name": "stdout",
          "text": [
            "Libraries imported - ready to use PyTorch 2.1.0+cu118\n"
          ]
        }
      ],
      "source": [
        "\"\"\"\n",
        "A fully connected neural network for Cold-formed Steel (CFS) Fastener Connection Backbone Prediction\n",
        "Created on 12/05/2023\n",
        "@author: Zhidong Zhang\n",
        "\"\"\"\n",
        "\n",
        "####################################\n",
        "###  Loading necessary modules   ###\n",
        "####################################\n",
        "\n",
        "import numpy as np\n",
        "import pandas as pd\n",
        "import torch\n",
        "import torch.nn as nn\n",
        "import matplotlib.pyplot as plt\n",
        "import matplotlib.gridspec as gridspec\n",
        "\n",
        "import torch.utils.data as td\n",
        "from torch.utils.data import DataLoader, TensorDataset\n",
        "from sklearn.model_selection import train_test_split\n",
        "from sklearn.metrics import confusion_matrix\n",
        "\n",
        "from IPython import display\n",
        "print(\"Libraries imported - ready to use PyTorch\", torch.__version__)\n"
      ]
    },
    {
      "cell_type": "code",
      "source": [
        "####################################\n",
        "###     Readin the Raw Data      ###\n",
        "####################################\n",
        "\n",
        "# Input Parameters: t1(mm), t2(mm), Fy1(Mpa), Fy2(Mpa), Fu1(Mpa), Fu2(Mpa), screw_diameter (mm) (1 and 2 imply two steel plies connected by a fastener)\n",
        "# Output Parameters: t1(mm), t2(mm), Fy1(Mpa), Fy2(Mpa), Fu1(Mpa), Fu2(Mpa), screw_diameter (mm) (The four-point backbone parameters:(D1, P1),(D2, P2),(D3, P3),(D4, P4), P1=40%*P3, P2=80%*P3, P4=10%*P3)\n",
        "\n",
        "url='https://raw.githubusercontent.com/EngineerWithData/FastenerNeuralNetwork/main/Test_Central_Summary_All.csv'\n",
        "df = pd.read_csv(url, encoding = 'unicode_escape')\n",
        "line_num = 93 # Num of lines inlcuded\n",
        "x_raw = torch.tensor([df['t1'].head(line_num), df['t2'].head(line_num), df['Fy1'].head(line_num), df['Fy2'].head(line_num), df['Fu1'].head(line_num), df['Fu2'].head(line_num), df['screw_diameter'].head(line_num)])\n",
        "x_raw = torch.transpose(x_raw, 0, 1)\n",
        "y_raw = torch.tensor([df['D1'].head(line_num), df['D2'].head(line_num), df['D3'].head(line_num), df['D4'].head(line_num), df['P3'].head(line_num)])\n",
        "y_raw = torch.transpose(y_raw, 0, 1)\n",
        "x = x_raw.to(torch.float32)\n",
        "y = y_raw.to(torch.float32)\n",
        "\n",
        "## Normalize the input data ##\n",
        "x_mean = torch.mean(x, dim=0)\n",
        "x_var = torch.var(x, dim=0)\n",
        "x_normalized = (x - x_mean)/torch.sqrt(x_var)\n",
        "y_mean = torch.mean(y, dim=0)\n",
        "y_var = torch.var(y, dim=0)\n",
        "y_normalized = (y - y_mean)/torch.sqrt(y_var)"
      ],
      "metadata": {
        "id": "2EnzGn13_mco"
      },
      "execution_count": null,
      "outputs": []
    },
    {
      "cell_type": "code",
      "source": [
        "####################################\n",
        "###  Define the neural network   ###\n",
        "####################################\n",
        "input_size=7  # Number of input layer nodes\n",
        "hidden_size=30 # Number of hidden layer nodes\n",
        "output_size=5  # Number of output layer nodes\n",
        "\n",
        "class NeuralNetwork(nn.Module):\n",
        "    def __init__(self, input_size, hidden_size, output_size):\n",
        "        super(NeuralNetwork, self).__init__()\n",
        "        self.fc1 = nn.Linear(input_size, hidden_size)\n",
        "        self.fc2 = nn.Linear(hidden_size, hidden_size)\n",
        "        self.fc3 = nn.Linear(hidden_size, hidden_size)\n",
        "        self.fc4 = nn.Linear(hidden_size, hidden_size)\n",
        "        self.fc5 = nn.Linear(hidden_size, hidden_size)\n",
        "        self.fc6 = nn.Linear(hidden_size, output_size)\n",
        "\n",
        "    def forward(self, x):\n",
        "        x = torch.relu(self.fc1(x))\n",
        "        x = torch.relu(self.fc2(x))\n",
        "        x = torch.relu(self.fc3(x))\n",
        "        x = torch.relu(self.fc4(x))\n",
        "        x = torch.relu(self.fc5(x))\n",
        "        x = self.fc6(x)\n",
        "        #return F.log_softmax(x)\n",
        "        #return F.sigmoid(x)\n",
        "        return x\n",
        "## Create a model instance based on the neural network class\n",
        "model = NeuralNetwork(input_size, hidden_size, output_size)\n",
        "print(model)"
      ],
      "metadata": {
        "colab": {
          "base_uri": "https://localhost:8080/"
        },
        "id": "bgNMbbooFboM",
        "outputId": "924220c6-49c5-434a-bbef-c6dd216378d9"
      },
      "execution_count": null,
      "outputs": [
        {
          "output_type": "stream",
          "name": "stdout",
          "text": [
            "NeuralNetwork(\n",
            "  (fc1): Linear(in_features=7, out_features=30, bias=True)\n",
            "  (fc2): Linear(in_features=30, out_features=30, bias=True)\n",
            "  (fc3): Linear(in_features=30, out_features=30, bias=True)\n",
            "  (fc4): Linear(in_features=30, out_features=30, bias=True)\n",
            "  (fc5): Linear(in_features=30, out_features=30, bias=True)\n",
            "  (fc6): Linear(in_features=30, out_features=5, bias=True)\n",
            ")\n"
          ]
        }
      ]
    },
    {
      "cell_type": "code",
      "source": [
        "#########################################\n",
        "#####     Use the trained model     #####\n",
        "#########################################\n",
        "\n",
        "# New input features\n",
        "# Input Parameters: t1(mm), t2(mm), Fy1(Mpa), Fy2(Mpa), Fu1(Mpa), Fu2(Mpa), screw_diameter (mm)\n",
        "x_new = torch.tensor([[0.31, 1.47,  332.42, 354.63,  415.84, 466.24, 4.76]])\n",
        "# Normalized input\n",
        "x_new_normalized = (x_new - x_mean)/torch.sqrt(x_var)\n",
        "print('Input Parameters: t1(mm), t2(mm), Fy1(Mpa), Fy2(Mpa), Fu1(Mpa), Fu2(Mpa), screw_diameter (mm)')\n",
        "print ('New sample: {}'.format(x_new))\n",
        "\n",
        "# Create a new model class and load weights and bias\n",
        "input_size=7  # Number of input layer nodes\n",
        "hidden_size=30 # Number of hidden layer nodes\n",
        "output_size=5  # Number of output layer nodes\n",
        "model = NeuralNetwork(input_size, hidden_size, output_size)\n",
        "\n",
        "# Note that reading the Pytorch Tensor data file \"xxx.pt\" from github to google colab does not work using the normal way:\n",
        "# url='https://raw.githubusercontent.com/EngineerWithData/FastenerNeuralNetwork/main/net_try.pt' and torch.load(url)\n",
        "# This is because the torch.load() has special requirements: we need to firstly read the file in into a buffer \"data\" and then readin the buffer directly\n",
        "from io import BytesIO\n",
        "import requests\n",
        "response =requests.get ('https://raw.githubusercontent.com/EngineerWithData/FastenerNeuralNetwork/main/net_try.pt')\n",
        "data = BytesIO(response.content)\n",
        "\n",
        "# Load the buffer style \"data\"\n",
        "model.load_state_dict(torch.load(data))\n",
        "\n",
        "# Set model to evaluation mode\n",
        "model.eval()\n",
        "\n",
        "# Get a prediction for the new data sample\n",
        "x_input = torch.Tensor(x_new_normalized).float()\n",
        "predicted = model(x_input).data\n",
        "\n",
        "# Output Parameters: D1(mm) D2(mm) D3(mm) D4(mm) P3(N)\n",
        "# Denormalized Output\n",
        "predicted_Denormalized=(predicted*(torch.sqrt(y_var))+y_mean)\n",
        "print('Output Parameters: D1(mm) D2(mm) D3(mm) D4(mm) P3(N)')\n",
        "print('Prediction:', predicted_Denormalized)"
      ],
      "metadata": {
        "id": "XZI7i7MD-63B",
        "colab": {
          "base_uri": "https://localhost:8080/"
        },
        "outputId": "e08d7fd7-7863-45b5-cf4c-160df86e3144"
      },
      "execution_count": null,
      "outputs": [
        {
          "output_type": "stream",
          "name": "stdout",
          "text": [
            "Input Parameters: t1(mm), t2(mm), Fy1(Mpa), Fy2(Mpa), Fu1(Mpa), Fu2(Mpa), screw_diameter (mm)\n",
            "New sample: tensor([[3.1000e-01, 1.4700e+00, 3.3242e+02, 3.5463e+02, 4.1584e+02, 4.6624e+02,\n",
            "         4.7600e+00]])\n",
            "Output Parameters: D1(mm) D2(mm) D3(mm) D4(mm) P3(N)\n",
            "Prediction: tensor([[6.1775e-02, 1.1427e-01, 1.1700e+00, 1.2719e+01, 1.2705e+03]])\n"
          ]
        }
      ]
    }
  ]
}